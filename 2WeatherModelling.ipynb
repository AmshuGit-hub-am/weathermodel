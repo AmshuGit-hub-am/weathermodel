{
  "nbformat": 4,
  "nbformat_minor": 0,
  "metadata": {
    "colab": {
      "provenance": [],
      "mount_file_id": "1NkId72XQwh6MT83S47T-iaHi2QT0_Xa0",
      "authorship_tag": "ABX9TyNlSU3IL8kboxNtvkPvmMza",
      "include_colab_link": true
    },
    "kernelspec": {
      "name": "python3",
      "display_name": "Python 3"
    },
    "language_info": {
      "name": "python"
    }
  },
  "cells": [
    {
      "cell_type": "markdown",
      "metadata": {
        "id": "view-in-github",
        "colab_type": "text"
      },
      "source": [
        "<a href=\"https://colab.research.google.com/github/AmshuGit-hub-am/weathermodel/blob/main/2WeatherModelling.ipynb\" target=\"_parent\"><img src=\"https://colab.research.google.com/assets/colab-badge.svg\" alt=\"Open In Colab\"/></a>"
      ]
    },
    {
      "cell_type": "code",
      "execution_count": null,
      "metadata": {
        "id": "OUB2hv7ml0t8"
      },
      "outputs": [],
      "source": [
        "def Temp_modelling(a,b,c,time):\n",
        "  temp=a*time**2+b*time+c\n",
        "  return temp"
      ]
    },
    {
      "cell_type": "code",
      "source": [
        "#Hardcoded variables\n",
        "a,b,c=0,1,2\n",
        "time = 5\n",
        "print(\"Hardcoded variables for weather modelling:\")\n",
        "print(\"Temperature for hardcoded temperature at time\", time, \"hours\",Temp_modelling(a,b,c,time) )"
      ],
      "metadata": {
        "colab": {
          "base_uri": "https://localhost:8080/"
        },
        "id": "BNNzUmzGl_cp",
        "outputId": "50f9b739-8bd6-44ff-dc38-1c407e4163dd"
      },
      "execution_count": null,
      "outputs": [
        {
          "output_type": "stream",
          "name": "stdout",
          "text": [
            "Hardcoded variables for weather modelling:\n",
            "Temperature for hardcoded temperature at time 5 hours 7\n"
          ]
        }
      ]
    },
    {
      "cell_type": "code",
      "source": [
        "a=float(input(\"Enter the value of a: \"))\n",
        "b=float(input(\"Enter the value of b: \"))\n",
        "c=float(input(\"Enter the value of c: \"))\n",
        "time=float(input(\"Enter the value of time: \"))"
      ],
      "metadata": {
        "colab": {
          "base_uri": "https://localhost:8080/"
        },
        "id": "o41J9T32m6ZO",
        "outputId": "43c16e32-218f-47c5-b72d-6a6e1e479efa"
      },
      "execution_count": null,
      "outputs": [
        {
          "name": "stdout",
          "output_type": "stream",
          "text": [
            "Enter the value of a: 0.1\n",
            "Enter the value of b: 3\n",
            "Enter the value of c: 10\n",
            "Enter the value of time: 4\n"
          ]
        }
      ]
    },
    {
      "cell_type": "code",
      "source": [
        "#variables read from keyboard\n",
        "print(\"Hardcoded variables for weather modelling\")\n",
        "print(\"Temperature from keyboard coeffcients at time\", time,\"hours\",Temp_modeling(a,b,c,time))"
      ],
      "metadata": {
        "colab": {
          "base_uri": "https://localhost:8080/"
        },
        "id": "iA5X0lJMnm7K",
        "outputId": "dbca8525-506d-4661-ba7d-8753e582c9fa"
      },
      "execution_count": null,
      "outputs": [
        {
          "output_type": "stream",
          "name": "stdout",
          "text": [
            "Hardcoded variables for weather modelling\n",
            "Temperature from keyboard coeffcients at time 4.0 hours 23.6\n"
          ]
        }
      ]
    },
    {
      "cell_type": "code",
      "source": [
        "#read from file\n",
        "def read_from_file(filename):\n",
        "  with open(filename, 'r') as f:\n",
        "    lines = f.readlines()\n",
        "  coefficients= [tuple(map(float,line.strip().split(','))) for line in lines]\n",
        "  return coefficients"
      ],
      "metadata": {
        "id": "8yHOYl2TnsYb"
      },
      "execution_count": null,
      "outputs": []
    },
    {
      "cell_type": "code",
      "source": [
        "#example: solve for a single set of inputs\n",
        "coefficients=read_from_file('/content/sample_data/wemodel2.txt') #file path\n",
        "a,b,c,time = coefficients[0]\n",
        "print(\"read from a file\")\n",
        "print(\"Temperature from keyboard coeffcients at time\", time,\"hours\",Temp_modeling(a,b,c,time))"
      ],
      "metadata": {
        "colab": {
          "base_uri": "https://localhost:8080/"
        },
        "id": "iiaWzujjoQzp",
        "outputId": "907de72e-87c0-453d-e5cc-c3280f027e25"
      },
      "execution_count": null,
      "outputs": [
        {
          "output_type": "stream",
          "name": "stdout",
          "text": [
            "read from a file\n",
            "Temperature from keyboard coeffcients at time 10.0 hours 248.0\n"
          ]
        }
      ]
    },
    {
      "cell_type": "code",
      "source": [
        "#solve for all sets in the file\n",
        "for idx, (a,b,c,time) in enumerate(coefficients):\n",
        "  temp =Temp_modelling(a,b,c,time)\n",
        "  print(\"Temperature from keyboard coeffcients at time\", time,\"hours\",Temp_modelling(a,b,c,time))"
      ],
      "metadata": {
        "colab": {
          "base_uri": "https://localhost:8080/"
        },
        "id": "hx5B297OphXG",
        "outputId": "cf486a4a-4c16-4a61-c4f5-75b6066e084b"
      },
      "execution_count": null,
      "outputs": [
        {
          "output_type": "stream",
          "name": "stdout",
          "text": [
            "Temperature from keyboard coeffcients at time 10.0 hours 248.0\n",
            "Temperature from keyboard coeffcients at time 6.0 hours 154.0\n",
            "Temperature from keyboard coeffcients at time 2.0 hours 29.8\n"
          ]
        }
      ]
    }
  ]
}